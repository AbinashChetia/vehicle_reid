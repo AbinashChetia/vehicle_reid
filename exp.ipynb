{
 "cells": [
  {
   "cell_type": "markdown",
   "metadata": {},
   "source": [
    "# Vehicle Re-identification using Transformer and Contrastive Learning"
   ]
  },
  {
   "cell_type": "code",
   "execution_count": null,
   "metadata": {},
   "outputs": [],
   "source": [
    "import torch\n",
    "import torch.optim as optim\n",
    "from torch.utils.data import DataLoader\n",
    "import torchvision.transforms as transforms\n",
    "from sklearn.metrics.pairwise import cosine_similarity\n",
    "import numpy as np\n",
    "from tqdm import tqdm\n",
    "import matplotlib.pyplot as plt\n",
    "from PIL import Image\n",
    "\n",
    "from dataset import VehicleReIDDataset, dataloader_train_test_split\n",
    "from vit import ViTEncoder\n",
    "from loss import TripletLoss\n",
    "from utils import get_hard_triplets, extract_embeddings\n",
    "from performance_analysis import compute_cmc_rankn, compute_map"
   ]
  },
  {
   "cell_type": "code",
   "execution_count": 22,
   "metadata": {},
   "outputs": [
    {
     "name": "stdout",
     "output_type": "stream",
     "text": [
      "cuda\n"
     ]
    }
   ],
   "source": [
    "# DEVICE = torch.device('mps' if torch.backends.mps.is_available() else 'cpu')\n",
    "DEVICE = torch.device('cuda' if torch.cuda.is_available() else 'cpu')\n",
    "# DEVICE = torch.device('cpu')\n",
    "print(DEVICE)"
   ]
  },
  {
   "cell_type": "code",
   "execution_count": null,
   "metadata": {},
   "outputs": [],
   "source": [
    "# initilaizing model\n",
    "model = ViTEncoder(\n",
    "    img_size=224,\n",
    "    patch_size=8,\n",
    "    in_chans=3,\n",
    "    embed_dim=1024,\n",
    "    depth=4,\n",
    "    n_heads=12,\n",
    "    mlp_ratio=4.,\n",
    "    qkv_bias=True,\n",
    "    p=0.1,\n",
    "    attn_p=0.1,\n",
    "    out_dim=512\n",
    ")\n",
    "\n",
    "# defining transformations\n",
    "# transform = transforms.Compose([\n",
    "#     transforms.Resize((384, 384), interpolation=3),\n",
    "#     transforms.ToTensor(),\n",
    "#     transforms.Normalize(mean=[0.485, 0.456, 0.406], std=[0.229, 0.224, 0.225]),\n",
    "# ])\n",
    "\n",
    "transform = transforms.Compose([\n",
    "    transforms.Resize((224, 224), interpolation=3),\n",
    "    transforms.ToTensor(),\n",
    "    transforms.Normalize([0.485, 0.456, 0.406], [0.229, 0.224, 0.225])\n",
    "])"
   ]
  },
  {
   "cell_type": "markdown",
   "metadata": {},
   "source": [
    "### Training"
   ]
  },
  {
   "cell_type": "code",
   "execution_count": 26,
   "metadata": {},
   "outputs": [],
   "source": [
    "def train(model, dataloader, optimizer, loss_fn, device, epochs=10):\n",
    "    model.train()\n",
    "    train_loss_hist = []\n",
    "    for epoch in range(epochs):\n",
    "        epoch_loss = 0\n",
    "        for images, labels in tqdm(dataloader):\n",
    "            images, labels = images.to(device), labels.to(device)\n",
    "\n",
    "            # Extract embeddings\n",
    "            embeddings = model(images)\n",
    "\n",
    "            # Hard triplet selection\n",
    "            triplets = get_hard_triplets(embeddings, labels)\n",
    "            if len(triplets) == 0:\n",
    "                continue\n",
    "\n",
    "            anchor, positive, negative = zip(*triplets)\n",
    "            anchor = torch.stack([embeddings[i] for i in anchor])\n",
    "            positive = torch.stack([embeddings[i] for i in positive])\n",
    "            negative = torch.stack([embeddings[i] for i in negative])\n",
    "\n",
    "            # Compute loss\n",
    "            loss = loss_fn(anchor, positive, negative)\n",
    "\n",
    "            # Backpropagation\n",
    "            optimizer.zero_grad()\n",
    "            loss.backward()\n",
    "            optimizer.step()\n",
    "\n",
    "            epoch_loss += loss.item()\n",
    "\n",
    "        epoch_loss /= len(dataloader)\n",
    "        train_loss_hist.append(epoch_loss)\n",
    "        print(f'Epoch {epoch+1:3}/{epochs:3} | Loss: {epoch_loss:.4f}')\n",
    "    return train_loss_hist"
   ]
  },
  {
   "cell_type": "code",
   "execution_count": 27,
   "metadata": {},
   "outputs": [],
   "source": [
    "# Initialize dataset and dataloader\n",
    "vric_dataset = VehicleReIDDataset(root_dir='data/VRIC_dataset/train_images', labels_file='data/VRIC_dataset/vric_train.txt', name='VRIC', transform=transform)\n",
    "train_loader = DataLoader(vric_dataset, batch_size=100, shuffle=True)\n",
    "\n",
    "model.load_state_dict(torch.load('trained_models/model_10_veri_carla.pth', map_location=DEVICE)) # to initialize model with pre-trained weights\n",
    "model.to(DEVICE)\n",
    "\n",
    "optimizer = optim.Adam(model.parameters(), lr=1e-4, weight_decay=1e-5)\n",
    "loss_fn = TripletLoss(margin=0.5)"
   ]
  },
  {
   "cell_type": "code",
   "execution_count": 30,
   "metadata": {},
   "outputs": [
    {
     "name": "stderr",
     "output_type": "stream",
     "text": [
      "100%|██████████| 549/549 [07:07<00:00,  1.28it/s]\n"
     ]
    },
    {
     "name": "stdout",
     "output_type": "stream",
     "text": [
      "Epoch   1/  5 | Loss: 0.0025\n"
     ]
    },
    {
     "name": "stderr",
     "output_type": "stream",
     "text": [
      "100%|██████████| 549/549 [07:04<00:00,  1.29it/s]\n"
     ]
    },
    {
     "name": "stdout",
     "output_type": "stream",
     "text": [
      "Epoch   2/  5 | Loss: 0.0024\n"
     ]
    },
    {
     "name": "stderr",
     "output_type": "stream",
     "text": [
      "100%|██████████| 549/549 [07:04<00:00,  1.29it/s]\n"
     ]
    },
    {
     "name": "stdout",
     "output_type": "stream",
     "text": [
      "Epoch   3/  5 | Loss: 0.0021\n"
     ]
    },
    {
     "name": "stderr",
     "output_type": "stream",
     "text": [
      "100%|██████████| 549/549 [07:09<00:00,  1.28it/s]\n"
     ]
    },
    {
     "name": "stdout",
     "output_type": "stream",
     "text": [
      "Epoch   4/  5 | Loss: 0.0035\n"
     ]
    },
    {
     "name": "stderr",
     "output_type": "stream",
     "text": [
      "100%|██████████| 549/549 [07:05<00:00,  1.29it/s]"
     ]
    },
    {
     "name": "stdout",
     "output_type": "stream",
     "text": [
      "Epoch   5/  5 | Loss: 0.0052\n"
     ]
    },
    {
     "name": "stderr",
     "output_type": "stream",
     "text": [
      "\n"
     ]
    }
   ],
   "source": [
    "# Train model\n",
    "train_loss_hist = train(model, train_loader, optimizer, loss_fn, DEVICE, epochs=5)"
   ]
  },
  {
   "cell_type": "code",
   "execution_count": 31,
   "metadata": {},
   "outputs": [
    {
     "data": {
      "image/png": "[encoded data removed]",
      "text/plain": [
       "<Figure size 640x480 with 1 Axes>"
      ]
     },
     "metadata": {},
     "output_type": "display_data"
    }
   ],
   "source": [
    "# Plot training loss\n",
    "plt.figure()\n",
    "plt.title('Training Loss')\n",
    "plt.xlabel('Epoch')\n",
    "plt.ylabel('Loss')\n",
    "plt.plot(train_loss_hist)\n",
    "plt.show()"
   ]
  },
  {
   "cell_type": "code",
   "execution_count": 32,
   "metadata": {},
   "outputs": [],
   "source": [
    "# Saving model\n",
    "torch.save(model.state_dict(), 'trained_models/model_10_vric.pth')"
   ]
  },
  {
   "cell_type": "markdown",
   "metadata": {},
   "source": [
    "### Inference"
   ]
  },
  {
   "cell_type": "code",
   "execution_count": 33,
   "metadata": {},
   "outputs": [
    {
     "data": {
      "text/plain": [
       "ViTEncoder(\n",
       "  (patch_embed): PatchEmbed(\n",
       "    (proj): Conv2d(3, 256, kernel_size=(16, 16), stride=(16, 16))\n",
       "  )\n",
       "  (pos_drop): Dropout(p=0.0, inplace=False)\n",
       "  (blocks): ModuleList(\n",
       "    (0-3): 4 x Block(\n",
       "      (norm1): LayerNorm((256,), eps=1e-06, elementwise_affine=True)\n",
       "      (attn): Attention(\n",
       "        (qkv): Linear(in_features=256, out_features=768, bias=True)\n",
       "        (attn_drop): Dropout(p=0.0, inplace=False)\n",
       "        (proj): Linear(in_features=256, out_features=256, bias=True)\n",
       "        (proj_drop): Dropout(p=0.0, inplace=False)\n",
       "      )\n",
       "      (norm2): LayerNorm((256,), eps=1e-06, elementwise_affine=True)\n",
       "      (mlp): MLP(\n",
       "        (fc1): Linear(in_features=256, out_features=1024, bias=True)\n",
       "        (act): GELU(approximate='none')\n",
       "        (fc2): Linear(in_features=1024, out_features=256, bias=True)\n",
       "        (drop): Dropout(p=0.0, inplace=False)\n",
       "      )\n",
       "    )\n",
       "  )\n",
       "  (norm): LayerNorm((256,), eps=1e-06, elementwise_affine=True)\n",
       "  (projection_head): Sequential(\n",
       "    (0): Linear(in_features=256, out_features=256, bias=True)\n",
       "    (1): ReLU()\n",
       "    (2): Linear(in_features=256, out_features=512, bias=True)\n",
       "    (3): BatchNorm1d(512, eps=1e-05, momentum=0.1, affine=True, track_running_stats=True)\n",
       "  )\n",
       ")"
      ]
     },
     "execution_count": 33,
     "metadata": {},
     "output_type": "execute_result"
    }
   ],
   "source": [
    "model.load_state_dict(torch.load('trained_models/model_10_vric.pth', map_location=DEVICE))\n",
    "model.to(DEVICE)\n",
    "\n",
    "model.eval()"
   ]
  },
  {
   "cell_type": "code",
   "execution_count": 34,
   "metadata": {},
   "outputs": [
    {
     "data": {
      "text/plain": [
       "array([ 2.53767539e-02,  3.32693825e-03,  6.22670259e-03,  2.18827780e-02,\n",
       "       -3.08333896e-02, -6.72188327e-02, -4.31431681e-02, -5.69921546e-02,\n",
       "        5.11082672e-02,  6.81745559e-02,  4.72131670e-02, -2.88390648e-02,\n",
       "        1.28844321e-01, -2.88343187e-02, -3.62200923e-02, -1.11193657e-02,\n",
       "       -1.83038544e-02, -3.57879773e-02,  3.90492268e-02, -3.32525894e-02,\n",
       "       -3.70997526e-02,  3.10531110e-02,  4.02898900e-02, -2.63845138e-02,\n",
       "       -1.05371945e-01,  4.81418967e-02,  2.90016867e-02, -3.07422653e-02,\n",
       "       -3.43246013e-02, -4.64328118e-02,  2.17108037e-02,  4.56595160e-02,\n",
       "       -2.27691103e-02, -4.14670110e-02,  1.31866280e-02,  4.18895110e-02,\n",
       "        3.59414704e-02,  4.64660265e-02,  3.91433388e-02,  1.89065374e-02,\n",
       "        1.75279435e-02,  3.19397449e-01, -3.73757370e-02,  4.38875630e-02,\n",
       "        1.14536518e-02, -1.95076149e-02, -2.96878647e-02,  2.85848863e-02,\n",
       "       -4.85843122e-02, -1.52495271e-03,  2.41053551e-02, -9.97889787e-03,\n",
       "       -1.14667602e-02,  1.22059025e-02, -2.53758747e-02,  1.15556810e-02,\n",
       "        8.46190844e-03,  3.19871232e-02,  3.04299854e-02, -3.76984552e-02,\n",
       "        4.93235886e-02, -5.52742705e-02,  1.19295865e-02, -2.88288817e-02,\n",
       "        3.41968052e-02,  3.11571453e-02,  2.62515210e-02,  6.64103925e-02,\n",
       "       -3.39810923e-02,  1.04027870e-03, -5.59212342e-02, -5.93405664e-02,\n",
       "        3.96552086e-02, -1.76836655e-01,  7.42025077e-02,  1.09064244e-02,\n",
       "        1.43562527e-02,  2.71482188e-02,  5.06970286e-02,  1.64421946e-02,\n",
       "       -8.56130943e-02,  2.67697480e-02,  3.24230231e-02,  3.46726552e-02,\n",
       "       -4.58518267e-02,  1.05463928e-02, -3.77746560e-02,  2.84557085e-04,\n",
       "        4.72815260e-02, -3.38576511e-02, -2.28426643e-02,  4.38096821e-02,\n",
       "       -1.42603414e-02, -1.93213280e-02,  4.96630408e-02, -2.82624327e-02,\n",
       "        4.27094959e-02, -3.44241709e-02, -4.01315577e-02, -1.54637182e-02,\n",
       "       -5.01433685e-02,  1.78610217e-02,  4.70206738e-02, -3.09031252e-02,\n",
       "        3.51564810e-02,  3.95901240e-02, -2.97133923e-02,  8.46848451e-03,\n",
       "       -2.39761416e-02, -4.04356346e-02,  7.49313505e-03,  2.91245915e-02,\n",
       "       -3.25163715e-02,  4.23134305e-02,  4.42751311e-02,  5.60190156e-03,\n",
       "        1.31254960e-02,  5.27754836e-02,  1.25327101e-02,  1.83673762e-02,\n",
       "       -3.75649557e-02, -8.57111439e-03,  2.35783886e-02, -4.99574505e-02,\n",
       "       -1.01873255e-03,  4.11117151e-02,  1.63445249e-02,  1.71479695e-02,\n",
       "       -7.07853809e-02, -1.45771578e-02, -4.54566181e-02, -2.31894143e-02,\n",
       "        3.80383246e-02, -3.61053683e-02, -1.03579368e-02, -3.65186669e-02,\n",
       "       -2.87857708e-02, -3.73174548e-02, -9.27745476e-02, -2.98071001e-02,\n",
       "       -4.06117365e-03,  3.98928039e-02,  2.92234253e-02,  2.33244449e-02,\n",
       "        3.49450633e-02, -1.93611700e-02, -3.16729466e-03, -1.05139939e-02,\n",
       "        2.40515918e-02, -7.05332235e-02,  5.46833165e-02, -3.55008394e-02,\n",
       "        3.32702175e-02, -5.26120923e-02,  2.47478578e-02,  6.39755204e-02,\n",
       "       -7.71469548e-02, -7.87881166e-02,  5.08186733e-03, -5.32161631e-02,\n",
       "       -3.76971178e-02, -2.70523634e-02,  3.75574045e-02,  3.99972573e-02,\n",
       "       -1.90617498e-02, -4.92960550e-02,  4.62939180e-02,  5.52837849e-02,\n",
       "       -1.48733146e-02, -8.44389069e-05,  5.54840080e-02, -1.65737439e-02,\n",
       "       -2.41853204e-02, -4.87176701e-03, -3.12585048e-02, -3.24390680e-02,\n",
       "        7.02735931e-02,  3.82754877e-02, -1.47821028e-02, -1.50968954e-02,\n",
       "       -4.28296104e-02,  6.95704520e-02, -8.53363052e-02,  4.82831076e-02,\n",
       "        5.19324504e-02,  1.14152348e-02, -1.84291403e-03, -3.08722313e-02,\n",
       "       -8.16244108e-04,  6.02932759e-02, -4.24103476e-02,  2.83736959e-02,\n",
       "        2.82559711e-02,  3.12467618e-03, -6.28253147e-02,  3.16692851e-02,\n",
       "        5.00434637e-02, -4.80939150e-02, -3.98439206e-02, -3.23776603e-02,\n",
       "        2.61207167e-02,  6.19742647e-02, -1.30430227e-02,  1.42094782e-02,\n",
       "        4.86775208e-03,  6.73794076e-02,  4.57854308e-02,  3.99476588e-02,\n",
       "        1.70710939e-03,  2.50747316e-02,  3.75839882e-03,  2.86269430e-02,\n",
       "       -3.07475720e-02, -2.66381744e-02,  4.50808145e-02, -4.36327010e-02,\n",
       "       -1.12517685e-01, -7.29615334e-03, -4.42016013e-02,  5.64858839e-02,\n",
       "        4.88632731e-02,  3.25965120e-05, -1.43259419e-02,  8.86343718e-02,\n",
       "        2.77688093e-02,  2.35261694e-02, -4.52359430e-02, -4.77705449e-02,\n",
       "       -3.96476761e-02, -3.70936953e-02, -5.63553651e-04, -1.51227629e-02,\n",
       "        1.47482060e-04,  1.67362671e-02, -1.52044138e-02,  3.83083783e-02,\n",
       "        5.34251593e-02,  4.21130657e-02, -6.57194853e-02,  2.30046194e-02,\n",
       "       -6.12173975e-02,  3.60044613e-02, -4.46373560e-02,  1.40808930e-03,\n",
       "       -4.60007265e-02, -3.52650024e-02,  4.63925011e-04,  7.40178227e-02,\n",
       "        4.23231125e-02, -2.40989812e-02,  5.82229570e-02, -8.44734721e-03,\n",
       "        2.33586859e-02, -2.93940566e-02, -5.04609533e-02, -1.85198784e-02,\n",
       "        2.05546282e-02, -2.68250313e-02, -2.96699908e-02,  3.86114158e-02,\n",
       "       -2.72184610e-02,  4.40068245e-02,  4.86225784e-02, -4.93117757e-02,\n",
       "        4.37389351e-02, -3.59660201e-02, -2.73889620e-02,  2.49517560e-02,\n",
       "       -3.52798961e-02,  5.65304933e-03, -3.48265022e-02, -3.95369530e-02,\n",
       "        1.18926708e-02, -8.93542841e-02,  5.91285639e-02,  1.65085997e-02,\n",
       "       -3.38349193e-02,  7.85178784e-03,  3.69188674e-02,  4.27426025e-02,\n",
       "        4.35693152e-02, -6.01052567e-02,  1.40571510e-02, -3.23046036e-02,\n",
       "        1.07887923e-03, -2.68509425e-02, -5.03367670e-02,  2.28904318e-02,\n",
       "       -6.00352734e-02,  1.78004708e-02,  1.11171626e-03, -1.80273075e-02,\n",
       "        5.71654588e-02, -6.46540476e-03,  3.95245217e-02,  1.42094120e-02,\n",
       "       -1.67233814e-02,  5.13454787e-02, -1.81748588e-02,  3.88101162e-03,\n",
       "       -8.66043102e-03,  3.22849452e-02, -6.03671633e-02,  9.38210115e-02,\n",
       "       -4.42807898e-02,  3.48858163e-02, -2.40559243e-02, -9.96187329e-03,\n",
       "        1.02527440e-02, -4.10960577e-02,  3.03461198e-02, -5.01740202e-02,\n",
       "       -6.36335835e-02, -4.32026498e-02,  3.12298145e-02, -1.03741989e-01,\n",
       "        6.08375520e-02,  5.49696721e-02, -5.37914112e-02, -2.19298415e-02,\n",
       "        4.07286286e-02, -3.22287679e-02, -1.76918856e-03, -2.20223945e-02,\n",
       "        3.69405411e-02,  2.41808351e-02,  4.70900871e-02,  7.15341642e-02,\n",
       "        3.94928455e-02, -5.60185574e-02, -4.31683436e-02, -5.07894494e-02,\n",
       "       -5.02372943e-02, -3.47516201e-02, -1.39871333e-02,  5.36551401e-02,\n",
       "       -4.96039875e-02,  8.50852653e-02,  1.28340395e-03,  1.88456755e-02,\n",
       "        6.95616752e-02,  4.12360691e-02,  3.92856263e-02, -3.99542153e-02,\n",
       "       -9.91342962e-02, -1.01141827e-02,  1.08895898e-02, -5.79862520e-02,\n",
       "        3.17477249e-02, -5.89367468e-03, -2.70708706e-02,  1.40532351e-03,\n",
       "       -3.58737074e-02, -3.34666744e-02, -2.69820429e-02,  4.81800511e-02,\n",
       "        6.35789335e-02,  2.58850921e-02,  2.33123824e-02,  9.75626186e-02,\n",
       "        6.63722574e-04,  8.01766589e-02,  5.40871099e-02, -2.30069123e-02,\n",
       "        3.10532264e-02, -2.19437038e-03, -4.67816852e-02,  2.43538078e-02,\n",
       "        7.29779825e-02,  1.39989471e-02, -2.46861912e-02, -1.78805366e-02,\n",
       "       -2.04755571e-02,  3.67177874e-02, -8.96020904e-02, -2.06349641e-02,\n",
       "       -2.91082487e-02, -1.97912548e-02, -3.14198621e-02,  5.84950745e-02,\n",
       "       -4.66489531e-02, -3.60543616e-02,  6.18028753e-02, -1.93822160e-02,\n",
       "        1.68422088e-02,  5.56677543e-02,  5.31785283e-03, -2.75073294e-02,\n",
       "        2.82230284e-02, -4.08517942e-02,  1.73804723e-02, -2.59967111e-02,\n",
       "        3.22787724e-02, -4.48068157e-02, -1.22080371e-01,  1.24693841e-01,\n",
       "       -8.08137134e-02,  2.89332755e-02,  4.32811715e-02, -1.83407068e-02,\n",
       "       -4.86723967e-02, -5.54033034e-02,  1.01572052e-02, -1.37591567e-02,\n",
       "       -3.56160812e-02,  2.59166062e-02,  1.98136433e-03,  3.71812433e-02,\n",
       "        1.39889894e-02,  4.64115217e-02, -9.86263249e-03,  4.83147055e-02,\n",
       "        2.32888423e-02,  1.58318300e-02,  3.97856869e-02,  3.87289561e-02,\n",
       "        3.86652090e-02,  1.84576660e-02, -1.37940189e-02, -3.11685130e-02,\n",
       "       -3.21388133e-02, -4.92719095e-03,  1.60224009e-02, -2.89124958e-02,\n",
       "       -3.81656922e-02,  5.71242534e-03,  3.66581194e-02, -1.26945451e-02,\n",
       "        1.28948002e-03,  3.83037776e-02, -5.59505187e-02,  2.23750975e-02,\n",
       "        2.92922202e-02, -5.14004119e-02, -7.58546367e-02,  2.73377541e-02,\n",
       "        3.21785435e-02, -4.33488078e-02,  3.21041867e-02,  7.41563179e-03,\n",
       "       -4.39572074e-02,  3.36812846e-02,  3.65234986e-02,  2.47692745e-02,\n",
       "       -3.45183834e-02,  3.13065611e-02, -5.78498170e-02, -1.19145187e-02,\n",
       "        7.84953870e-03,  1.99163370e-02,  2.27030963e-02,  5.70825078e-02,\n",
       "        2.93911491e-02, -3.44871059e-02, -3.28433514e-02, -5.13208397e-02,\n",
       "        1.08217010e-02, -3.60051356e-02,  9.04011205e-02, -5.38662523e-02,\n",
       "       -1.97629593e-02, -1.15261087e-03,  5.85663989e-02,  2.35681701e-02,\n",
       "       -6.51905313e-03,  2.10158732e-02,  3.76965702e-02,  4.34193723e-02,\n",
       "        4.10650745e-02, -1.19741233e-02,  1.82539057e-02,  9.25044995e-03,\n",
       "       -4.24856842e-02,  2.91469395e-02, -5.91970142e-03,  4.88404371e-02,\n",
       "        2.28747576e-02, -2.64187902e-02,  2.34161019e-02, -2.65947189e-02,\n",
       "        5.99450245e-02, -7.66357258e-02,  7.80307651e-02,  1.18275926e-01,\n",
       "       -2.44899318e-02,  2.31972933e-02,  4.15717252e-02,  4.16402295e-02,\n",
       "       -3.33327092e-02, -1.66109204e-02, -4.61497456e-02,  2.99247112e-02,\n",
       "        2.02901624e-02, -2.85835806e-02, -4.66976454e-03,  4.09932174e-02,\n",
       "       -5.20855486e-02, -5.13941981e-03, -5.87964766e-02,  4.45646793e-02,\n",
       "       -1.10104987e-02, -3.90875041e-02, -2.32266895e-02, -4.49860282e-03,\n",
       "        1.89150367e-02, -6.84058070e-02, -1.37057053e-02, -3.03321593e-02,\n",
       "        9.71333608e-02,  1.10172080e-02, -3.64459306e-02,  9.62381363e-02],\n",
       "      dtype=float32)"
      ]
     },
     "execution_count": 34,
     "metadata": {},
     "output_type": "execute_result"
    }
   ],
   "source": [
    "def infer(model, image_path, device=DEVICE, transform=transform):\n",
    "    '''\n",
    "    Extracts embeddings for a single image.\n",
    "    '''\n",
    "    image = Image.open(image_path).convert('RGB')\n",
    "    image = transform(image).unsqueeze(0).to(device)\n",
    "    with torch.no_grad():\n",
    "        embedding = model(image)\n",
    "    return embedding.cpu().numpy().flatten()\n",
    "\n",
    "trial_image_path = './data/VeRi_CARLA_dataset/image_gallery/20220710050038_0_44.jpg'\n",
    "infer(model, trial_image_path)"
   ]
  },
  {
   "cell_type": "markdown",
   "metadata": {},
   "source": [
    "### Performance Analysis"
   ]
  },
  {
   "cell_type": "code",
   "execution_count": 35,
   "metadata": {},
   "outputs": [
    {
     "data": {
      "text/plain": [
       "ViTEncoder(\n",
       "  (patch_embed): PatchEmbed(\n",
       "    (proj): Conv2d(3, 256, kernel_size=(16, 16), stride=(16, 16))\n",
       "  )\n",
       "  (pos_drop): Dropout(p=0.0, inplace=False)\n",
       "  (blocks): ModuleList(\n",
       "    (0-3): 4 x Block(\n",
       "      (norm1): LayerNorm((256,), eps=1e-06, elementwise_affine=True)\n",
       "      (attn): Attention(\n",
       "        (qkv): Linear(in_features=256, out_features=768, bias=True)\n",
       "        (attn_drop): Dropout(p=0.0, inplace=False)\n",
       "        (proj): Linear(in_features=256, out_features=256, bias=True)\n",
       "        (proj_drop): Dropout(p=0.0, inplace=False)\n",
       "      )\n",
       "      (norm2): LayerNorm((256,), eps=1e-06, elementwise_affine=True)\n",
       "      (mlp): MLP(\n",
       "        (fc1): Linear(in_features=256, out_features=1024, bias=True)\n",
       "        (act): GELU(approximate='none')\n",
       "        (fc2): Linear(in_features=1024, out_features=256, bias=True)\n",
       "        (drop): Dropout(p=0.0, inplace=False)\n",
       "      )\n",
       "    )\n",
       "  )\n",
       "  (norm): LayerNorm((256,), eps=1e-06, elementwise_affine=True)\n",
       "  (projection_head): Sequential(\n",
       "    (0): Linear(in_features=256, out_features=256, bias=True)\n",
       "    (1): ReLU()\n",
       "    (2): Linear(in_features=256, out_features=512, bias=True)\n",
       "    (3): BatchNorm1d(512, eps=1e-05, momentum=0.1, affine=True, track_running_stats=True)\n",
       "  )\n",
       ")"
      ]
     },
     "execution_count": 35,
     "metadata": {},
     "output_type": "execute_result"
    }
   ],
   "source": [
    "model.load_state_dict(torch.load('trained_models/model_10_vric.pth', map_location=DEVICE))\n",
    "model.to(DEVICE)\n",
    "\n",
    "model.eval()"
   ]
  },
  {
   "cell_type": "code",
   "execution_count": 36,
   "metadata": {},
   "outputs": [],
   "source": [
    "# query_dataset = VehicleReIDDataset(root_dir='data/VeRi_CARLA_dataset/image_query', name='VeRi_CARLA', transform=transform)\n",
    "# gallery_dataset = VehicleReIDDataset(root_dir='data/VeRi_CARLA_dataset/image_gallery', name='VeRi_CARLA', transform=transform)\n",
    "\n",
    "vric_query = VehicleReIDDataset(root_dir='data/VRIC_dataset/probe_images', labels_file='data/VRIC_dataset/vric_probe.txt', name='VRIC', transform=transform)\n",
    "vric_gallery = VehicleReIDDataset(root_dir='data/VRIC_dataset/gallery_images', labels_file='data/VRIC_dataset/vric_gallery.txt', name='VRIC', transform=transform)\n",
    "\n",
    "query_loader = DataLoader(vric_query, batch_size=1, shuffle=False)\n",
    "gallery_loader = DataLoader(vric_gallery, batch_size=1, shuffle=False)\n",
    "\n",
    "query_embeddings, query_labels = extract_embeddings(model, query_loader, DEVICE)\n",
    "gallery_embeddings, gallery_labels = extract_embeddings(model, gallery_loader, DEVICE)"
   ]
  },
  {
   "cell_type": "code",
   "execution_count": null,
   "metadata": {},
   "outputs": [
    {
     "name": "stdout",
     "output_type": "stream",
     "text": [
      "Rank-1 Accuracy: 1.28%\n",
      "Rank-5 Accuracy: 3.45%\n",
      "Rank-10 Accuracy: 4.91%\n"
     ]
    },
    {
     "data": {
      "image/png": "[encoded data removed]",
      "text/plain": [
       "<Figure size 800x600 with 1 Axes>"
      ]
     },
     "metadata": {},
     "output_type": "display_data"
    }
   ],
   "source": [
    "# Compute cosine similarity\n",
    "similarity = cosine_similarity(query_embeddings, gallery_embeddings)\n",
    "\n",
    "map_score = compute_map(similarity, query_labels, gallery_labels)\n",
    "print(f'Mean Average Precision (mAP): {map_score * 100:.2f}%')\n",
    "\n",
    "cmc_curve, rank_1, rank_5, rank_10 = compute_cmc_rankn(similarity, query_labels, gallery_labels)\n",
    "\n",
    "print(f'Rank-1 Accuracy: {rank_1:.2f}%')\n",
    "print(f'Rank-5 Accuracy: {rank_5:.2f}%' if rank_5 else '')\n",
    "print(f'Rank-10 Accuracy: {rank_10:.2f}%' if rank_10 else '')\n",
    "\n",
    "ranks = np.arange(1, len(cmc_curve) + 1)\n",
    "plt.figure(figsize=(8, 6))\n",
    "plt.plot(ranks, cmc_curve, marker='o', linestyle='-', label='CMC Curve')\n",
    "plt.xlabel('Rank')\n",
    "plt.ylabel('Matching Accuracy')\n",
    "plt.title('CMC Curve for Vehicle Re-Identification')\n",
    "plt.legend()\n",
    "plt.grid()\n",
    "plt.show()"
   ]
  }
 ],
 "metadata": {
  "kernelspec": {
   "display_name": "cloudspace",
   "language": "python",
   "name": "python3"
  },
  "language_info": {
   "codemirror_mode": {
    "name": "ipython",
    "version": 3
   },
   "file_extension": ".py",
   "mimetype": "text/x-python",
   "name": "python",
   "nbconvert_exporter": "python",
   "pygments_lexer": "ipython3",
   "version": "3.10.10"
  }
 },
 "nbformat": 4,
 "nbformat_minor": 2
}
