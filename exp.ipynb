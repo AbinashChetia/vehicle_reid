{
 "cells": [
  {
   "cell_type": "markdown",
   "metadata": {},
   "source": [
    "# Vehicle Re-identification using Transformer and Contrastive Learning"
   ]
  },
  {
   "cell_type": "code",
   "execution_count": 1,
   "metadata": {},
   "outputs": [],
   "source": [
    "import torch\n",
    "import torch.optim as optim\n",
    "from torch.utils.data import DataLoader\n",
    "import torchvision.transforms as transforms\n",
    "from sklearn.metrics import average_precision_score\n",
    "from sklearn.metrics.pairwise import cosine_similarity\n",
    "import numpy as np\n",
    "from tqdm import tqdm\n",
    "import matplotlib.pyplot as plt\n",
    "from PIL import Image\n",
    "import os\n",
    "\n",
    "from dataset import VehicleReIDDataset\n",
    "from vit import ViTEncoder\n",
    "from loss import TripletLoss"
   ]
  },
  {
   "cell_type": "code",
   "execution_count": 2,
   "metadata": {},
   "outputs": [
    {
     "name": "stdout",
     "output_type": "stream",
     "text": [
      "cuda\n"
     ]
    }
   ],
   "source": [
    "# DEVICE = torch.device('mps' if torch.backends.mps.is_available() else 'cpu')\n",
    "DEVICE = torch.device('cuda' if torch.cuda.is_available() else 'cpu')\n",
    "# DEVICE = torch.device('cpu')\n",
    "print(DEVICE)"
   ]
  },
  {
   "cell_type": "markdown",
   "metadata": {},
   "source": [
    "### Utility Functions"
   ]
  },
  {
   "cell_type": "code",
   "execution_count": 3,
   "metadata": {},
   "outputs": [],
   "source": [
    "def get_hard_triplets(embeddings, labels):\n",
    "    '''\n",
    "    Selects hard positives and negatives based on Euclidean distances.\n",
    "    '''\n",
    "    labels = labels.cpu().numpy()\n",
    "    pairwise_distances = torch.cdist(embeddings, embeddings)  # Compute pairwise distances\n",
    "\n",
    "    hard_triplets = []\n",
    "    for i in range(len(labels)):\n",
    "        anchor_idx = i\n",
    "        anchor_label = labels[i]\n",
    "\n",
    "        # Hard positive: Closest with same label\n",
    "        positive_indices = np.where(labels == anchor_label)[0]\n",
    "        positive_indices = positive_indices[positive_indices != i]  # Exclude self\n",
    "        if len(positive_indices) == 0:\n",
    "            continue\n",
    "        positive_idx = positive_indices[torch.argmin(pairwise_distances[i, positive_indices])]\n",
    "\n",
    "        # Hard negative: Furthest with different label\n",
    "        negative_indices = np.where(labels != anchor_label)[0]\n",
    "        negative_idx = negative_indices[torch.argmax(pairwise_distances[i, negative_indices])]\n",
    "\n",
    "        hard_triplets.append((anchor_idx, positive_idx, negative_idx))\n",
    "\n",
    "    return hard_triplets"
   ]
  },
  {
   "cell_type": "code",
   "execution_count": 4,
   "metadata": {},
   "outputs": [],
   "source": [
    "def extract_embeddings(model, dataloader, device):\n",
    "    '''\n",
    "    Extracts embeddings for images in the dataset.\n",
    "    '''\n",
    "    model.eval()\n",
    "    all_embeddings = []\n",
    "    all_labels = []\n",
    "    \n",
    "    with torch.no_grad():\n",
    "        for images, labels in dataloader:\n",
    "            images = images.to(device)\n",
    "            embeddings = model(images)\n",
    "            all_embeddings.append(embeddings.cpu())\n",
    "            all_labels.extend(labels.numpy())\n",
    "\n",
    "    return torch.cat(all_embeddings), np.array(all_labels)\n",
    "\n",
    "def retrieve_top_k(embedding, dataset_embeddings, dataset_labels, k=5):\n",
    "    '''\n",
    "    Retrieve top-k similar images using Euclidean distance.\n",
    "    '''\n",
    "    distances = torch.cdist(embedding.unsqueeze(0), dataset_embeddings)\n",
    "    top_k_indices = torch.argsort(distances, dim=1)[0][:k]\n",
    "    return dataset_labels[top_k_indices]"
   ]
  },
  {
   "cell_type": "code",
   "execution_count": 5,
   "metadata": {},
   "outputs": [],
   "source": [
    "# initilaizing model\n",
    "model = ViTEncoder(\n",
    "    embed_dim=256,\n",
    "    depth=4,\n",
    "    n_heads=8,\n",
    "    out_dim=512,\n",
    ")\n",
    "\n",
    "# defining transformations\n",
    "transform = transforms.Compose([\n",
    "    transforms.Resize((384, 384)),\n",
    "    transforms.ToTensor(),\n",
    "    transforms.Normalize(mean=[0.485, 0.456, 0.406], std=[0.229, 0.224, 0.225]),\n",
    "])"
   ]
  },
  {
   "cell_type": "markdown",
   "metadata": {},
   "source": [
    "### Training"
   ]
  },
  {
   "cell_type": "code",
   "execution_count": 6,
   "metadata": {},
   "outputs": [],
   "source": [
    "def train(model, dataloader, optimizer, loss_fn, device, epochs=10):\n",
    "    model.train()\n",
    "    train_loss_hist = []\n",
    "    for epoch in range(epochs):\n",
    "        epoch_loss = 0\n",
    "        for images, labels in tqdm(dataloader):\n",
    "            images, labels = images.to(device), labels.to(device)\n",
    "\n",
    "            # Extract embeddings\n",
    "            embeddings = model(images)\n",
    "\n",
    "            # Hard triplet selection\n",
    "            triplets = get_hard_triplets(embeddings, labels)\n",
    "            if len(triplets) == 0:\n",
    "                continue\n",
    "\n",
    "            anchor, positive, negative = zip(*triplets)\n",
    "            anchor = torch.stack([embeddings[i] for i in anchor])\n",
    "            positive = torch.stack([embeddings[i] for i in positive])\n",
    "            negative = torch.stack([embeddings[i] for i in negative])\n",
    "\n",
    "            # Compute loss\n",
    "            loss = loss_fn(anchor, positive, negative)\n",
    "\n",
    "            # Backpropagation\n",
    "            optimizer.zero_grad()\n",
    "            loss.backward()\n",
    "            optimizer.step()\n",
    "\n",
    "            epoch_loss += loss.item()\n",
    "\n",
    "        epoch_loss /= len(dataloader)\n",
    "        train_loss_hist.append(epoch_loss)\n",
    "        print(f'Epoch {epoch+1:3}/{epochs:3} | Loss: {epoch_loss:.4f}')\n",
    "    return train_loss_hist"
   ]
  },
  {
   "cell_type": "code",
   "execution_count": 7,
   "metadata": {},
   "outputs": [],
   "source": [
    "# Initialize dataset and dataloader\n",
    "vric_dataset = VehicleReIDDataset(root_dir='data/VRIC_dataset/train_images', labels_file='data/VRIC_dataset/vric_train.txt', name='VRIC', transform=transform)\n",
    "train_loader = DataLoader(vric_dataset, batch_size=100, shuffle=True)\n",
    "\n",
    "model.to(DEVICE)\n",
    "\n",
    "optimizer = optim.Adam(model.parameters(), lr=1e-4, weight_decay=1e-5)\n",
    "loss_fn = TripletLoss(margin=0.3)"
   ]
  },
  {
   "cell_type": "code",
   "execution_count": 8,
   "metadata": {},
   "outputs": [
    {
     "name": "stderr",
     "output_type": "stream",
     "text": [
      "100%|██████████| 549/549 [06:40<00:00,  1.37it/s]\n"
     ]
    },
    {
     "name": "stdout",
     "output_type": "stream",
     "text": [
      "Epoch   1/ 10 | Loss: 0.0019\n"
     ]
    },
    {
     "name": "stderr",
     "output_type": "stream",
     "text": [
      "100%|██████████| 549/549 [06:48<00:00,  1.35it/s]\n"
     ]
    },
    {
     "name": "stdout",
     "output_type": "stream",
     "text": [
      "Epoch   2/ 10 | Loss: 0.0026\n"
     ]
    },
    {
     "name": "stderr",
     "output_type": "stream",
     "text": [
      "100%|██████████| 549/549 [06:43<00:00,  1.36it/s]\n"
     ]
    },
    {
     "name": "stdout",
     "output_type": "stream",
     "text": [
      "Epoch   3/ 10 | Loss: 0.0017\n"
     ]
    },
    {
     "name": "stderr",
     "output_type": "stream",
     "text": [
      "100%|██████████| 549/549 [06:52<00:00,  1.33it/s]\n"
     ]
    },
    {
     "name": "stdout",
     "output_type": "stream",
     "text": [
      "Epoch   4/ 10 | Loss: 0.0014\n"
     ]
    },
    {
     "name": "stderr",
     "output_type": "stream",
     "text": [
      "100%|██████████| 549/549 [06:49<00:00,  1.34it/s]\n"
     ]
    },
    {
     "name": "stdout",
     "output_type": "stream",
     "text": [
      "Epoch   5/ 10 | Loss: 0.0022\n"
     ]
    },
    {
     "name": "stderr",
     "output_type": "stream",
     "text": [
      "100%|██████████| 549/549 [06:43<00:00,  1.36it/s]\n"
     ]
    },
    {
     "name": "stdout",
     "output_type": "stream",
     "text": [
      "Epoch   6/ 10 | Loss: 0.0029\n"
     ]
    },
    {
     "name": "stderr",
     "output_type": "stream",
     "text": [
      "100%|██████████| 549/549 [06:46<00:00,  1.35it/s]\n"
     ]
    },
    {
     "name": "stdout",
     "output_type": "stream",
     "text": [
      "Epoch   7/ 10 | Loss: 0.0013\n"
     ]
    },
    {
     "name": "stderr",
     "output_type": "stream",
     "text": [
      "100%|██████████| 549/549 [06:49<00:00,  1.34it/s]\n"
     ]
    },
    {
     "name": "stdout",
     "output_type": "stream",
     "text": [
      "Epoch   8/ 10 | Loss: 0.0016\n"
     ]
    },
    {
     "name": "stderr",
     "output_type": "stream",
     "text": [
      "100%|██████████| 549/549 [06:50<00:00,  1.34it/s]\n"
     ]
    },
    {
     "name": "stdout",
     "output_type": "stream",
     "text": [
      "Epoch   9/ 10 | Loss: 0.0018\n"
     ]
    },
    {
     "name": "stderr",
     "output_type": "stream",
     "text": [
      "100%|██████████| 549/549 [06:52<00:00,  1.33it/s]"
     ]
    },
    {
     "name": "stdout",
     "output_type": "stream",
     "text": [
      "Epoch  10/ 10 | Loss: 0.0024\n"
     ]
    },
    {
     "name": "stderr",
     "output_type": "stream",
     "text": [
      "\n"
     ]
    }
   ],
   "source": [
    "# Train model\n",
    "train_loss_hist = train(model, train_loader, optimizer, loss_fn, DEVICE, epochs=10)"
   ]
  },
  {
   "cell_type": "code",
   "execution_count": 9,
   "metadata": {},
   "outputs": [
    {
     "data": {
      "image/png": "[encoded data removed]",
      "text/plain": [
       "<Figure size 640x480 with 1 Axes>"
      ]
     },
     "metadata": {},
     "output_type": "display_data"
    }
   ],
   "source": [
    "# Plot training loss\n",
    "plt.figure()\n",
    "plt.title('Training Loss')\n",
    "plt.xlabel('Epoch')\n",
    "plt.ylabel('Loss')\n",
    "plt.plot(train_loss_hist)\n",
    "plt.show()"
   ]
  },
  {
   "cell_type": "code",
   "execution_count": 10,
   "metadata": {},
   "outputs": [],
   "source": [
    "# Saving model\n",
    "torch.save(model.state_dict(), 'trained_models/model_10.pth')"
   ]
  },
  {
   "cell_type": "markdown",
   "metadata": {},
   "source": [
    "### Inference"
   ]
  },
  {
   "cell_type": "code",
   "execution_count": 11,
   "metadata": {},
   "outputs": [
    {
     "data": {
      "text/plain": [
       "ViTEncoder(\n",
       "  (patch_embed): PatchEmbed(\n",
       "    (proj): Conv2d(3, 256, kernel_size=(16, 16), stride=(16, 16))\n",
       "  )\n",
       "  (pos_drop): Dropout(p=0.0, inplace=False)\n",
       "  (blocks): ModuleList(\n",
       "    (0-3): 4 x Block(\n",
       "      (norm1): LayerNorm((256,), eps=1e-06, elementwise_affine=True)\n",
       "      (attn): Attention(\n",
       "        (qkv): Linear(in_features=256, out_features=768, bias=True)\n",
       "        (attn_drop): Dropout(p=0.0, inplace=False)\n",
       "        (proj): Linear(in_features=256, out_features=256, bias=True)\n",
       "        (proj_drop): Dropout(p=0.0, inplace=False)\n",
       "      )\n",
       "      (norm2): LayerNorm((256,), eps=1e-06, elementwise_affine=True)\n",
       "      (mlp): MLP(\n",
       "        (fc1): Linear(in_features=256, out_features=1024, bias=True)\n",
       "        (act): GELU(approximate='none')\n",
       "        (fc2): Linear(in_features=1024, out_features=256, bias=True)\n",
       "        (drop): Dropout(p=0.0, inplace=False)\n",
       "      )\n",
       "    )\n",
       "  )\n",
       "  (norm): LayerNorm((256,), eps=1e-06, elementwise_affine=True)\n",
       "  (projection_head): Sequential(\n",
       "    (0): Linear(in_features=256, out_features=256, bias=True)\n",
       "    (1): ReLU()\n",
       "    (2): Linear(in_features=256, out_features=512, bias=True)\n",
       "    (3): BatchNorm1d(512, eps=1e-05, momentum=0.1, affine=True, track_running_stats=True)\n",
       "  )\n",
       ")"
      ]
     },
     "execution_count": 11,
     "metadata": {},
     "output_type": "execute_result"
    }
   ],
   "source": [
    "model.load_state_dict(torch.load('trained_models/model_10.pth', map_location=DEVICE))\n",
    "model.to(DEVICE)\n",
    "\n",
    "model.eval()"
   ]
  },
  {
   "cell_type": "code",
   "execution_count": 12,
   "metadata": {},
   "outputs": [
    {
     "data": {
      "text/plain": [
       "array([ 0.02716406, -0.02964275,  0.06454185, -0.06388696, -0.03227132,\n",
       "        0.04492643,  0.03766097,  0.02965811, -0.05603904, -0.01164888,\n",
       "        0.06753622,  0.03178975,  0.0091524 , -0.03570563, -0.0626044 ,\n",
       "        0.03144142,  0.05684159, -0.02544619,  0.0222094 ,  0.03124323,\n",
       "       -0.00402171, -0.03557015,  0.0646847 ,  0.03573905, -0.03508517,\n",
       "        0.06106313, -0.03236848,  0.0459704 , -0.03254233,  0.07328027,\n",
       "        0.04205935, -0.06834046, -0.01287706, -0.07506882,  0.01518621,\n",
       "       -0.05812644, -0.06122102,  0.10551023, -0.00649777,  0.03834106,\n",
       "        0.0278732 , -0.01026488, -0.03497251, -0.0103535 , -0.01390993,\n",
       "        0.05046586, -0.06015466, -0.00927675,  0.03851607,  0.02868574,\n",
       "       -0.07977004,  0.02313342,  0.03546132,  0.06593459, -0.0255855 ,\n",
       "       -0.02590386,  0.02517218, -0.04567979, -0.06782153,  0.06014811,\n",
       "       -0.07241833,  0.02705109,  0.06875024, -0.02359903,  0.06211995,\n",
       "       -0.05636566,  0.04335517,  0.04973178, -0.04827351, -0.040077  ,\n",
       "       -0.02574106,  0.08157014,  0.04609185, -0.01818064,  0.0067387 ,\n",
       "       -0.03334983,  0.03664402,  0.07497271, -0.00330695,  0.02072315,\n",
       "        0.04575847, -0.02928068,  0.0591434 ,  0.07002956, -0.0010193 ,\n",
       "       -0.02068618, -0.0245916 , -0.00796659,  0.03992456,  0.05600457,\n",
       "        0.0079984 ,  0.05203435, -0.06636793, -0.05733992, -0.0092259 ,\n",
       "       -0.04453104, -0.02975273, -0.01596978,  0.07497786, -0.03281648,\n",
       "        0.04636707, -0.03852049, -0.03704098,  0.04286832,  0.03997967,\n",
       "        0.05392198,  0.06090575, -0.0176072 ,  0.00973608,  0.03296591,\n",
       "       -0.04003936,  0.02394288, -0.0526463 ,  0.06185098, -0.00363756,\n",
       "        0.01582128, -0.03887624,  0.05600465,  0.04293151,  0.04238443,\n",
       "        0.01911091, -0.00343066,  0.05658486, -0.03961823, -0.05735894,\n",
       "        0.0124087 ,  0.05408422, -0.05499162, -0.05845242,  0.07079522,\n",
       "       -0.03889842,  0.06251928, -0.0339946 ,  0.02168538, -0.00761528,\n",
       "        0.03914998, -0.06128127, -0.01743361, -0.02046527, -0.01203621,\n",
       "       -0.01526859, -0.00677711,  0.04371567,  0.04499162,  0.09085855,\n",
       "        0.04561523,  0.01998367, -0.02462313,  0.05449109,  0.01002377,\n",
       "       -0.01518278, -0.05265882,  0.01942207, -0.05790076, -0.07196642,\n",
       "       -0.04771715,  0.02206944, -0.02471019,  0.04049047,  0.03702132,\n",
       "       -0.05477074,  0.03580813,  0.00403462,  0.05706323,  0.06539232,\n",
       "       -0.01157276,  0.04679108, -0.06697101,  0.01063781, -0.02368375,\n",
       "        0.0626528 ,  0.05722666, -0.04263766, -0.03200654, -0.06350713,\n",
       "       -0.01893306, -0.01793401, -0.02338886,  0.02085376,  0.02396416,\n",
       "        0.02737677, -0.05023788,  0.06509539,  0.08492722,  0.02471784,\n",
       "        0.06010758,  0.03435199,  0.03541857, -0.02228436,  0.04611185,\n",
       "        0.04852934,  0.03746436,  0.03867261, -0.05567015, -0.00552694,\n",
       "       -0.08195649,  0.0540181 , -0.0676221 , -0.04721912,  0.01454079,\n",
       "       -0.05534427,  0.0261664 , -0.06836355,  0.06756099,  0.06232053,\n",
       "        0.02944929, -0.05329224, -0.03126132, -0.07259905, -0.04092012,\n",
       "       -0.0469988 ,  0.05166794,  0.07351505,  0.04884769, -0.02429452,\n",
       "       -0.06445767,  0.0462784 ,  0.00718113,  0.04436583,  0.06269811,\n",
       "        0.03768262, -0.01847011,  0.01679808, -0.05635866,  0.01605803,\n",
       "        0.01426542,  0.05796473,  0.01623983,  0.0420784 ,  0.07734533,\n",
       "       -0.02013975, -0.03992695, -0.08256581,  0.02796694,  0.04164025,\n",
       "       -0.0280339 ,  0.03850287, -0.01038537, -0.01528401, -0.00347735,\n",
       "       -0.03795389, -0.0636876 , -0.05047229, -0.04803909,  0.03222101,\n",
       "        0.03861441,  0.02552661, -0.01690431, -0.03703587, -0.04637599,\n",
       "        0.00826881, -0.02531301,  0.03581981, -0.00908745,  0.06518732,\n",
       "        0.05199372, -0.08705845, -0.00843165, -0.04529325,  0.02539366,\n",
       "        0.01804868, -0.00776828,  0.04323453, -0.04948914,  0.0617816 ,\n",
       "        0.04178807,  0.02543169, -0.03631053, -0.02697359,  0.03886801,\n",
       "       -0.0308348 ,  0.01884032, -0.03839207, -0.04846161, -0.00706794,\n",
       "       -0.05970977, -0.00410472, -0.05479406,  0.01688925,  0.00953082,\n",
       "       -0.02288259,  0.06572069, -0.02560757,  0.02587265,  0.05662246,\n",
       "        0.03359438, -0.06431016, -0.0188226 , -0.02971412, -0.02898815,\n",
       "       -0.02246129, -0.05179103,  0.0045021 ,  0.0208709 ,  0.05426832,\n",
       "       -0.07144465, -0.06335219,  0.02262896, -0.05600021, -0.01956272,\n",
       "        0.06139831, -0.06783212,  0.04278188, -0.05412212, -0.01425651,\n",
       "        0.00411858, -0.01179837,  0.02754766, -0.0333608 , -0.03599146,\n",
       "       -0.07263891,  0.0077158 ,  0.03465418, -0.00941253, -0.05027901,\n",
       "        0.0077139 , -0.02726956,  0.01630052,  0.03517406, -0.0745524 ,\n",
       "       -0.05407191,  0.0035872 ,  0.06234346, -0.00894157,  0.03435046,\n",
       "        0.07068994, -0.06716651, -0.02016309,  0.06753749, -0.05187285,\n",
       "       -0.06079862,  0.00052105, -0.01319828, -0.06733351,  0.04826418,\n",
       "        0.04970037,  0.00736679, -0.02455595,  0.01245198,  0.06080445,\n",
       "        0.04681672,  0.02411466,  0.05190067,  0.04209653, -0.03882262,\n",
       "        0.029817  , -0.03028529, -0.0258038 ,  0.05838769, -0.04554218,\n",
       "        0.0219206 , -0.04772174,  0.05355815,  0.02804706, -0.02869466,\n",
       "       -0.04516929, -0.00939171, -0.04108804, -0.00537783,  0.06556608,\n",
       "        0.06659684, -0.02511607, -0.03472794,  0.04111464, -0.0285298 ,\n",
       "       -0.06275419, -0.06311584, -0.0300738 ,  0.05343124,  0.04727833,\n",
       "       -0.05786451,  0.05988075,  0.0287192 , -0.03872174,  0.04898332,\n",
       "       -0.05545134,  0.07297722,  0.02787158, -0.09299096, -0.00343332,\n",
       "       -0.05793391,  0.04032237, -0.0473402 , -0.02767178,  0.03155755,\n",
       "        0.04204633,  0.04380435, -0.00951817, -0.04864649,  0.06527409,\n",
       "       -0.01629823, -0.05522195,  0.04326116,  0.02087843,  0.00907531,\n",
       "       -0.04276706,  0.04899918, -0.06289493, -0.05326981, -0.02026301,\n",
       "        0.04859473, -0.05557656,  0.01390531,  0.04483556, -0.02519112,\n",
       "       -0.0057155 , -0.00289205, -0.04596814,  0.04492724,  0.03534035,\n",
       "        0.0531814 , -0.03441679, -0.02164313,  0.05989476, -0.04729227,\n",
       "        0.05294339,  0.04491911,  0.04835483,  0.04790316,  0.06323973,\n",
       "       -0.03274388,  0.0166733 ,  0.04010476,  0.0574434 , -0.04960715,\n",
       "        0.02393732, -0.06471229,  0.00285245,  0.05410953, -0.00596897,\n",
       "        0.02857737, -0.04503417, -0.01837965,  0.05008943, -0.04389856,\n",
       "       -0.00516242, -0.03927269, -0.00444583, -0.04709627, -0.0015526 ,\n",
       "       -0.07360612, -0.02887649,  0.05662574, -0.07280102,  0.05316134,\n",
       "        0.03600923, -0.04696585, -0.04665984, -0.06041684, -0.04013159,\n",
       "       -0.05956182,  0.0623801 , -0.02361861,  0.07977983,  0.07040294,\n",
       "       -0.04819578,  0.05881345, -0.02331341, -0.05930155, -0.00607665,\n",
       "       -0.00856672,  0.01880239,  0.03132694,  0.0553901 , -0.04226788,\n",
       "       -0.03364442,  0.0472055 ,  0.03369407,  0.01259395, -0.03797866,\n",
       "       -0.03508266,  0.04389674,  0.04535379, -0.04840967,  0.06648581,\n",
       "       -0.06018883, -0.06043186,  0.04742856, -0.03880379, -0.01413694,\n",
       "       -0.08245116, -0.01819081,  0.02105892, -0.02237789, -0.05734251,\n",
       "        0.00276627, -0.04247351,  0.0053425 , -0.03405274, -0.00578476,\n",
       "       -0.0428931 , -0.07191444, -0.05197759, -0.03381563, -0.04897641,\n",
       "        0.03187142,  0.00473334,  0.02736008,  0.03307484, -0.02482541,\n",
       "        0.03955495, -0.06280044, -0.05338703, -0.06538122, -0.01366711,\n",
       "       -0.05826129, -0.06209728, -0.02627531,  0.01689189, -0.02365543,\n",
       "       -0.03827476,  0.07617112], dtype=float32)"
      ]
     },
     "execution_count": 12,
     "metadata": {},
     "output_type": "execute_result"
    }
   ],
   "source": [
    "def infer(model, image_path, device=DEVICE, transform=transform):\n",
    "    '''\n",
    "    Extracts embeddings for a single image.\n",
    "    '''\n",
    "    image = Image.open(image_path).convert('RGB')\n",
    "    image = transform(image).unsqueeze(0).to(device)\n",
    "    with torch.no_grad():\n",
    "        embedding = model(image)\n",
    "    return embedding.cpu().numpy().flatten()\n",
    "\n",
    "trial_image_path = './data/VeRi_CARLA_dataset/image_gallery/20220710050038_0_44.jpg'\n",
    "infer(model, trial_image_path)"
   ]
  },
  {
   "cell_type": "markdown",
   "metadata": {},
   "source": [
    "### Performance Analysis"
   ]
  },
  {
   "cell_type": "code",
   "execution_count": 13,
   "metadata": {},
   "outputs": [
    {
     "data": {
      "text/plain": [
       "ViTEncoder(\n",
       "  (patch_embed): PatchEmbed(\n",
       "    (proj): Conv2d(3, 256, kernel_size=(16, 16), stride=(16, 16))\n",
       "  )\n",
       "  (pos_drop): Dropout(p=0.0, inplace=False)\n",
       "  (blocks): ModuleList(\n",
       "    (0-3): 4 x Block(\n",
       "      (norm1): LayerNorm((256,), eps=1e-06, elementwise_affine=True)\n",
       "      (attn): Attention(\n",
       "        (qkv): Linear(in_features=256, out_features=768, bias=True)\n",
       "        (attn_drop): Dropout(p=0.0, inplace=False)\n",
       "        (proj): Linear(in_features=256, out_features=256, bias=True)\n",
       "        (proj_drop): Dropout(p=0.0, inplace=False)\n",
       "      )\n",
       "      (norm2): LayerNorm((256,), eps=1e-06, elementwise_affine=True)\n",
       "      (mlp): MLP(\n",
       "        (fc1): Linear(in_features=256, out_features=1024, bias=True)\n",
       "        (act): GELU(approximate='none')\n",
       "        (fc2): Linear(in_features=1024, out_features=256, bias=True)\n",
       "        (drop): Dropout(p=0.0, inplace=False)\n",
       "      )\n",
       "    )\n",
       "  )\n",
       "  (norm): LayerNorm((256,), eps=1e-06, elementwise_affine=True)\n",
       "  (projection_head): Sequential(\n",
       "    (0): Linear(in_features=256, out_features=256, bias=True)\n",
       "    (1): ReLU()\n",
       "    (2): Linear(in_features=256, out_features=512, bias=True)\n",
       "    (3): BatchNorm1d(512, eps=1e-05, momentum=0.1, affine=True, track_running_stats=True)\n",
       "  )\n",
       ")"
      ]
     },
     "execution_count": 13,
     "metadata": {},
     "output_type": "execute_result"
    }
   ],
   "source": [
    "model.load_state_dict(torch.load('trained_models/model.pth', map_location=DEVICE))\n",
    "model.to(DEVICE)\n",
    "\n",
    "model.eval()"
   ]
  },
  {
   "cell_type": "code",
   "execution_count": 14,
   "metadata": {},
   "outputs": [],
   "source": [
    "# query_dataset = VehicleReIDDataset(root_dir='data/VeRi_CARLA_dataset/image_query', name='VeRi_CARLA', transform=transform)\n",
    "# gallery_dataset = VehicleReIDDataset(root_dir='data/VeRi_CARLA_dataset/image_gallery', name='VeRi_CARLA', transform=transform)\n",
    "\n",
    "vric_query = VehicleReIDDataset(root_dir='data/VRIC_dataset/probe_images', labels_file='data/VRIC_dataset/vric_probe.txt', name='VRIC', transform=transform)\n",
    "vric_gallery = VehicleReIDDataset(root_dir='data/VRIC_dataset/gallery_images', labels_file='data/VRIC_dataset/vric_gallery.txt', name='VRIC', transform=transform)\n",
    "\n",
    "query_loader = DataLoader(vric_query, batch_size=1, shuffle=False)\n",
    "gallery_loader = DataLoader(vric_gallery, batch_size=1, shuffle=False)\n",
    "\n",
    "query_embeddings, query_labels = extract_embeddings(model, query_loader, DEVICE)\n",
    "gallery_embeddings, gallery_labels = extract_embeddings(model, gallery_loader, DEVICE)"
   ]
  },
  {
   "cell_type": "code",
   "execution_count": 15,
   "metadata": {},
   "outputs": [],
   "source": [
    "# Compute cosine similarity\n",
    "similarity = cosine_similarity(query_embeddings, gallery_embeddings)"
   ]
  },
  {
   "cell_type": "code",
   "execution_count": 16,
   "metadata": {},
   "outputs": [
    {
     "name": "stdout",
     "output_type": "stream",
     "text": [
      "Rank-1 Accuracy: 1.96%\n",
      "Rank-5 Accuracy: 5.34%\n",
      "Rank-10 Accuracy: 8.36%\n"
     ]
    },
    {
     "data": {
      "image/png": "[encoded data removed]",
      "text/plain": [
       "<Figure size 800x600 with 1 Axes>"
      ]
     },
     "metadata": {},
     "output_type": "display_data"
    }
   ],
   "source": [
    "def compute_cmc(similarity_matrix, query_ids, gallery_ids, max_rank=10):\n",
    "    \"\"\"Computes CMC Curve & Rank-N Accuracy\"\"\"\n",
    "    num_queries = len(query_ids)\n",
    "    cmc_curve = np.zeros(max_rank)\n",
    "\n",
    "    for i in range(num_queries):\n",
    "        # Sort gallery images by similarity score\n",
    "        sorted_indices = np.argsort(similarity_matrix[i])[::-1]\n",
    "\n",
    "        # Get ranked list of predicted IDs\n",
    "        ranked_vehicle_ids = gallery_ids[sorted_indices]\n",
    "\n",
    "        # Find rank of the first correct match\n",
    "        correct_match_ranks = np.where(ranked_vehicle_ids == query_ids[i])[0]\n",
    "\n",
    "        if len(correct_match_ranks) > 0:\n",
    "            first_correct_rank = correct_match_ranks[0]\n",
    "            cmc_curve[first_correct_rank:] += 1  # Increment all ranks ≥ first match\n",
    "\n",
    "    cmc_curve /= num_queries  # Normalize\n",
    "\n",
    "    # Rank-N Metrics\n",
    "    rank_1 = cmc_curve[0] * 100\n",
    "    rank_5 = cmc_curve[4] * 100 if max_rank >= 5 else None\n",
    "    rank_10 = cmc_curve[9] * 100 if max_rank >= 10 else None\n",
    "\n",
    "    return cmc_curve, rank_1, rank_5, rank_10\n",
    "\n",
    "cmc_curve, rank_1, rank_5, rank_10 = compute_cmc(similarity, query_labels, gallery_labels)\n",
    "\n",
    "print(f\"Rank-1 Accuracy: {rank_1:.2f}%\")\n",
    "print(f\"Rank-5 Accuracy: {rank_5:.2f}%\" if rank_5 else \"\")\n",
    "print(f\"Rank-10 Accuracy: {rank_10:.2f}%\" if rank_10 else \"\")\n",
    "\n",
    "ranks = np.arange(1, len(cmc_curve) + 1)\n",
    "plt.figure(figsize=(8, 6))\n",
    "plt.plot(ranks, cmc_curve, marker=\"o\", linestyle=\"-\", label=\"CMC Curve\")\n",
    "plt.xlabel(\"Rank\")\n",
    "plt.ylabel(\"Matching Accuracy\")\n",
    "plt.title(\"CMC Curve for Vehicle Re-Identification\")\n",
    "plt.legend()\n",
    "plt.grid()\n",
    "plt.show()"
   ]
  },
  {
   "cell_type": "code",
   "execution_count": 17,
   "metadata": {},
   "outputs": [
    {
     "name": "stdout",
     "output_type": "stream",
     "text": [
      "Mean Average Precision (mAP): 4.37%\n"
     ]
    }
   ],
   "source": [
    "def compute_map(similarity_matrix, query_ids, gallery_ids):\n",
    "    \"\"\"Computes mean Average Precision (mAP)\"\"\"\n",
    "    num_queries = len(query_ids)\n",
    "    average_precisions = []\n",
    "\n",
    "    for i in range(num_queries):\n",
    "        # Sort gallery images by similarity score\n",
    "        sorted_indices = np.argsort(similarity_matrix[i])[::-1]\n",
    "\n",
    "        # Get binary relevance vector (1 if correct, 0 otherwise)\n",
    "        relevance = (gallery_ids[sorted_indices] == query_ids[i]).astype(int)\n",
    "\n",
    "        # Compute Average Precision (AP)\n",
    "        if relevance.sum() > 0:\n",
    "            ap = average_precision_score(relevance, similarity_matrix[i, sorted_indices])\n",
    "            average_precisions.append(ap)\n",
    "\n",
    "    return np.mean(average_precisions)\n",
    "\n",
    "map_score = compute_map(similarity, query_labels, gallery_labels)\n",
    "print(f'Mean Average Precision (mAP): {map_score * 100:.2f}%')"
   ]
  }
 ],
 "metadata": {
  "kernelspec": {
   "display_name": "cloudspace",
   "language": "python",
   "name": "python3"
  },
  "language_info": {
   "codemirror_mode": {
    "name": "ipython",
    "version": 3
   },
   "file_extension": ".py",
   "mimetype": "text/x-python",
   "name": "python",
   "nbconvert_exporter": "python",
   "pygments_lexer": "ipython3",
   "version": "3.10.10"
  }
 },
 "nbformat": 4,
 "nbformat_minor": 2
}
